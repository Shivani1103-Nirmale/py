{
  "nbformat": 4,
  "nbformat_minor": 0,
  "metadata": {
    "colab": {
      "provenance": [],
      "authorship_tag": "ABX9TyMDFzhCmf87s38M+6ti89JJ",
      "include_colab_link": true
    },
    "kernelspec": {
      "name": "python3",
      "display_name": "Python 3"
    },
    "language_info": {
      "name": "python"
    }
  },
  "cells": [
    {
      "cell_type": "markdown",
      "metadata": {
        "id": "view-in-github",
        "colab_type": "text"
      },
      "source": [
        "<a href=\"https://colab.research.google.com/github/Shivani1103-Nirmale/py/blob/main/cricketanylisis1.ipynb\" target=\"_parent\"><img src=\"https://colab.research.google.com/assets/colab-badge.svg\" alt=\"Open In Colab\"/></a>"
      ]
    },
    {
      "cell_type": "code",
      "execution_count": 1,
      "metadata": {
        "colab": {
          "base_uri": "https://localhost:8080/"
        },
        "id": "jNrglRk4U_n6",
        "outputId": "023ce0b1-ad4b-412a-f583-e0bf636b0017"
      },
      "outputs": [
        {
          "output_type": "stream",
          "name": "stdout",
          "text": [
            "🏏 Team Total Runs: 182\n",
            "\n",
            "📊 Player Performance:\n",
            "Virat Kohli - Runs: 85, Batting Avg: 1.42, Wickets: 0, Bowling SR: N/A\n",
            "Rohit Sharma - Runs: 42, Batting Avg: 1.20, Wickets: 0, Bowling SR: N/A\n",
            "KL Rahul - Runs: 30, Batting Avg: 1.20, Wickets: 0, Bowling SR: N/A\n",
            "Hardik Pandya - Runs: 20, Batting Avg: 1.33, Wickets: 2, Bowling SR: 12.0\n",
            "Jasprit Bumrah - Runs: 5, Batting Avg: 1.67, Wickets: 3, Bowling SR: 8.0\n",
            "\n",
            "🏆 Top Batter: Virat Kohli (85 runs)\n",
            "🎯 Top Bowler: Jasprit Bumrah (3 wickets)\n",
            "\n",
            "📈 Player Rankings (Based on Points):\n",
            "1. Virat Kohli - 85 points\n",
            "2. Rohit Sharma - 42 points\n",
            "3. Hardik Pandya - 40 points\n",
            "4. Jasprit Bumrah - 40 points\n",
            "5. KL Rahul - 30 points\n"
          ]
        }
      ],
      "source": [
        "# Sample Data: Players with match stats\n",
        "players = [\n",
        "    {\"name\": \"Virat Kohli\", \"runs\": 85, \"balls_faced\": 60, \"wickets\": 0, \"balls_bowled\": 0, \"runs_given\": 0},\n",
        "    {\"name\": \"Rohit Sharma\", \"runs\": 42, \"balls_faced\": 35, \"wickets\": 0, \"balls_bowled\": 0, \"runs_given\": 0},\n",
        "    {\"name\": \"KL Rahul\", \"runs\": 30, \"balls_faced\": 25, \"wickets\": 0, \"balls_bowled\": 0, \"runs_given\": 0},\n",
        "    {\"name\": \"Hardik Pandya\", \"runs\": 20, \"balls_faced\": 15, \"wickets\": 2, \"balls_bowled\": 24, \"runs_given\": 30},\n",
        "    {\"name\": \"Jasprit Bumrah\", \"runs\": 5, \"balls_faced\": 3, \"wickets\": 3, \"balls_bowled\": 24, \"runs_given\": 28},\n",
        "]\n",
        "\n",
        "\n",
        "\n",
        "# Function to calculate total team score\n",
        "def team_total(players):\n",
        "    return sum(player[\"runs\"] for player in players)\n",
        "\n",
        "# Function to calculate batting average (Runs per ball faced)\n",
        "def batting_average(player):\n",
        "    return player[\"runs\"] / player[\"balls_faced\"] if player[\"balls_faced\"] > 0 else 0\n",
        "\n",
        "# Function to calculate bowling strike rate (Balls per wicket)\n",
        "def bowling_strike_rate(player):\n",
        "    return player[\"balls_bowled\"] / player[\"wickets\"] if player[\"wickets\"] > 0 else None\n",
        "\n",
        "# Function to find top performers\n",
        "def top_performers(players):\n",
        "    top_batter = max(players, key=lambda p: p[\"runs\"])\n",
        "    top_bowler = max(players, key=lambda p: p[\"wickets\"])\n",
        "    return top_batter, top_bowler\n",
        "\n",
        "\n",
        "# Function to calculate player points\n",
        "def calculate_points(player):\n",
        "    points = player[\"runs\"] + (10 * player[\"wickets\"])\n",
        "\n",
        "    # Bonus for a high strike rate (Above 150)\n",
        "    strike_rate = (player[\"runs\"] / player[\"balls_faced\"]) * 100 if player[\"balls_faced\"] > 0 else 0\n",
        "    if strike_rate > 150:\n",
        "        points += 5\n",
        "\n",
        "    return points\n",
        "\n",
        "# Function to rank players based on points\n",
        "def rank_players(players):\n",
        "    return sorted(players, key=calculate_points, reverse=True)\n",
        "\n",
        "# Display match analysis\n",
        "def match_analysis(players):\n",
        "    print(f\"🏏 Team Total Runs: {team_total(players)}\\n\")\n",
        "\n",
        "    print(\"📊 Player Performance:\")\n",
        "    for player in players:\n",
        "        print(f\"{player['name']} - Runs: {player['runs']}, Batting Avg: {batting_average(player):.2f}, Wickets: {player['wickets']}, Bowling SR: {bowling_strike_rate(player) or 'N/A'}\")\n",
        "\n",
        "    top_batter, top_bowler = top_performers(players)\n",
        "    print(f\"\\n🏆 Top Batter: {top_batter['name']} ({top_batter['runs']} runs)\")\n",
        "    print(f\"🎯 Top Bowler: {top_bowler['name']} ({top_bowler['wickets']} wickets)\")\n",
        "\n",
        "    ranked_players = rank_players(players)\n",
        "    print(\"\\n📈 Player Rankings (Based on Points):\")\n",
        "    for idx, player in enumerate(ranked_players, 1):\n",
        "        print(f\"{idx}. {player['name']} - {calculate_points(player)} points\")\n",
        "\n",
        "# Run the match analysis\n",
        "match_analysis(players)"
      ]
    }
  ]
}